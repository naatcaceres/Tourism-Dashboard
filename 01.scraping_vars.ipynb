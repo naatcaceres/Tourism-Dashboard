{
 "cells": [
  {
   "cell_type": "code",
   "execution_count": 14,
   "metadata": {},
   "outputs": [],
   "source": [
    "import pandas as pd\n",
    "import numpy as np\n",
    "\n",
    "from selenium import webdriver\n",
    "from selenium.webdriver.common.by import By\n",
    "from selenium.webdriver.support.ui import WebDriverWait\n",
    "import lxml.html\n",
    "import requests\n",
    "from lxml import etree\n",
    "\n",
    "import matplotlib.pyplot as plt\n",
    "import seaborn as sns\n",
    "\n",
    "import time\n",
    "\n",
    "\n",
    "import warnings\n",
    "warnings.filterwarnings('ignore')\n",
    "\n"
   ]
  },
  {
   "cell_type": "markdown",
   "metadata": {},
   "source": [
    "# Environmental Performance Index\n",
    "The 2022 EPI provides a quantitative basis for comparing, analyzing, and understanding environmental performance for 180 countries. We score and rank these countries on their environmental performance using the most recent year of data available and calculate how these scores have changed over the previous decade.\n"
   ]
  },
  {
   "cell_type": "markdown",
   "metadata": {},
   "source": [
    "chatgpt me ha vacilado así que lo vamos a sacar a mano"
   ]
  },
  {
   "cell_type": "code",
   "execution_count": 15,
   "metadata": {},
   "outputs": [],
   "source": [
    "url = 'https://epi.yale.edu/epi-results/2022/component/epi'"
   ]
  },
  {
   "cell_type": "code",
   "execution_count": 16,
   "metadata": {},
   "outputs": [],
   "source": [
    "driver = webdriver.Firefox()\n",
    "driver.get(url)\n",
    "time.sleep(5)\n",
    "\n",
    "html = lxml.html.document_fromstring(driver.page_source)\n",
    "driver.close()"
   ]
  },
  {
   "cell_type": "code",
   "execution_count": 26,
   "metadata": {},
   "outputs": [],
   "source": [
    "tabla = html.xpath('//*[@id=\"DataTables_Table_0\"]')"
   ]
  },
  {
   "cell_type": "code",
   "execution_count": 46,
   "metadata": {},
   "outputs": [
    {
     "data": {
      "text/plain": [
       "180"
      ]
     },
     "execution_count": 46,
     "metadata": {},
     "output_type": "execute_result"
    }
   ],
   "source": [
    "rows = tabla[0].xpath('./tbody//tr')\n",
    "len(rows)"
   ]
  },
  {
   "cell_type": "code",
   "execution_count": 65,
   "metadata": {},
   "outputs": [
    {
     "data": {
      "text/plain": [
       "['77.90']"
      ]
     },
     "execution_count": 65,
     "metadata": {},
     "output_type": "execute_result"
    }
   ],
   "source": [
    "rows[0].xpath('./td[1]/a/text()')\n",
    "rows[0].xpath('./td[2]/text()')[-1].split()\n",
    "rows[0].xpath('./td[3]/text()')[-1].split()"
   ]
  },
  {
   "cell_type": "code",
   "execution_count": 66,
   "metadata": {},
   "outputs": [],
   "source": [
    "rows = tabla[0].xpath('./tbody//tr')\n",
    "\n",
    "df = pd.DataFrame(columns=['country', 'rank', 'epi_score'])\n",
    "\n",
    "for row in rows:\n",
    "    aux = pd.DataFrame()\n",
    "    aux['country'] = row.xpath('.//td/a/text()')\n",
    "    aux['rank'] = row.xpath('./td[2]/text()')[-1].split()\n",
    "    aux['epi_score'] = row.xpath('./td[3]/text()')[-1].split()\n",
    "\n",
    "    df = pd.concat([df, aux])"
   ]
  },
  {
   "cell_type": "code",
   "execution_count": 67,
   "metadata": {},
   "outputs": [
    {
     "data": {
      "text/html": [
       "<div>\n",
       "<style scoped>\n",
       "    .dataframe tbody tr th:only-of-type {\n",
       "        vertical-align: middle;\n",
       "    }\n",
       "\n",
       "    .dataframe tbody tr th {\n",
       "        vertical-align: top;\n",
       "    }\n",
       "\n",
       "    .dataframe thead th {\n",
       "        text-align: right;\n",
       "    }\n",
       "</style>\n",
       "<table border=\"1\" class=\"dataframe\">\n",
       "  <thead>\n",
       "    <tr style=\"text-align: right;\">\n",
       "      <th></th>\n",
       "      <th>country</th>\n",
       "      <th>rank</th>\n",
       "      <th>epi_score</th>\n",
       "    </tr>\n",
       "  </thead>\n",
       "  <tbody>\n",
       "    <tr>\n",
       "      <th>0</th>\n",
       "      <td>Denmark</td>\n",
       "      <td>1</td>\n",
       "      <td>77.90</td>\n",
       "    </tr>\n",
       "    <tr>\n",
       "      <th>0</th>\n",
       "      <td>United Kingdom</td>\n",
       "      <td>2</td>\n",
       "      <td>77.70</td>\n",
       "    </tr>\n",
       "    <tr>\n",
       "      <th>0</th>\n",
       "      <td>Finland</td>\n",
       "      <td>3</td>\n",
       "      <td>76.50</td>\n",
       "    </tr>\n",
       "    <tr>\n",
       "      <th>0</th>\n",
       "      <td>Malta</td>\n",
       "      <td>4</td>\n",
       "      <td>75.20</td>\n",
       "    </tr>\n",
       "    <tr>\n",
       "      <th>0</th>\n",
       "      <td>Sweden</td>\n",
       "      <td>5</td>\n",
       "      <td>72.70</td>\n",
       "    </tr>\n",
       "    <tr>\n",
       "      <th>...</th>\n",
       "      <td>...</td>\n",
       "      <td>...</td>\n",
       "      <td>...</td>\n",
       "    </tr>\n",
       "    <tr>\n",
       "      <th>0</th>\n",
       "      <td>Pakistan</td>\n",
       "      <td>176</td>\n",
       "      <td>24.60</td>\n",
       "    </tr>\n",
       "    <tr>\n",
       "      <th>0</th>\n",
       "      <td>Bangladesh</td>\n",
       "      <td>177</td>\n",
       "      <td>23.10</td>\n",
       "    </tr>\n",
       "    <tr>\n",
       "      <th>0</th>\n",
       "      <td>Viet Nam</td>\n",
       "      <td>178</td>\n",
       "      <td>20.10</td>\n",
       "    </tr>\n",
       "    <tr>\n",
       "      <th>0</th>\n",
       "      <td>Myanmar</td>\n",
       "      <td>179</td>\n",
       "      <td>19.40</td>\n",
       "    </tr>\n",
       "    <tr>\n",
       "      <th>0</th>\n",
       "      <td>India</td>\n",
       "      <td>180</td>\n",
       "      <td>18.90</td>\n",
       "    </tr>\n",
       "  </tbody>\n",
       "</table>\n",
       "<p>180 rows × 3 columns</p>\n",
       "</div>"
      ],
      "text/plain": [
       "           country rank epi_score\n",
       "0          Denmark    1     77.90\n",
       "0   United Kingdom    2     77.70\n",
       "0          Finland    3     76.50\n",
       "0            Malta    4     75.20\n",
       "0           Sweden    5     72.70\n",
       "..             ...  ...       ...\n",
       "0         Pakistan  176     24.60\n",
       "0       Bangladesh  177     23.10\n",
       "0         Viet Nam  178     20.10\n",
       "0          Myanmar  179     19.40\n",
       "0            India  180     18.90\n",
       "\n",
       "[180 rows x 3 columns]"
      ]
     },
     "execution_count": 67,
     "metadata": {},
     "output_type": "execute_result"
    }
   ],
   "source": [
    "df"
   ]
  },
  {
   "cell_type": "markdown",
   "metadata": {},
   "source": [
    "### Resto de variables environmental"
   ]
  },
  {
   "cell_type": "markdown",
   "metadata": {},
   "source": [
    "#### Ecosystem Vitality\n",
    "The Ecosystem Vitality policy objective measures how well countries are preserving, protecting, and enhancing ecosystems and the services they provide. It comprises 42% of the total EPI score and is made up of six issue categories: Biodiversity & Habitat, Ecosystem Services, Fisheries, Acid Rain, Agriculture, and Water Resources."
   ]
  },
  {
   "cell_type": "code",
   "execution_count": 68,
   "metadata": {},
   "outputs": [],
   "source": [
    "url1 = 'https://epi.yale.edu/epi-results/2022/component/eco'"
   ]
  },
  {
   "cell_type": "markdown",
   "metadata": {},
   "source": [
    "#### Biodiversity & Habitat\n",
    "The Biodiversity and Habitat  issue category assesses countries’ actions toward retaining natural ecosystems and protecting the full range of biodiversity within their borders. It consists of seven indicators: terrestrial biome protection (weighted for the national and global rarity of biomes), marine protected areas, Protected Areas Representativeness Index, Species Habitat Index, Species Protection Index, and Biodiversity Habitat Index."
   ]
  },
  {
   "cell_type": "code",
   "execution_count": 69,
   "metadata": {},
   "outputs": [],
   "source": [
    "url2 = 'https://epi.yale.edu/epi-results/2022/component/bdh'"
   ]
  },
  {
   "cell_type": "markdown",
   "metadata": {},
   "source": [
    "#### Environmental Health\n",
    "The Environmental Health policy objective measures how well countries are protecting their populations from environmental health risks. It comprises 20% of the total EPI score and is made up of four issue categories: Air Quality, Sanitation & Drinking Water, Heavy Metals, and Waste Management."
   ]
  },
  {
   "cell_type": "code",
   "execution_count": 70,
   "metadata": {},
   "outputs": [],
   "source": [
    "url3 = 'https://epi.yale.edu/epi-results/2022/component/hlt'"
   ]
  },
  {
   "cell_type": "markdown",
   "metadata": {},
   "source": [
    "#### Air Quality\n",
    "The Air Quality issue category measures the direct impacts of air pollution on human health in each country. It consists of seven indicators: PM2.5 exposure, household solid fuels, ozone exposure, nitrogen oxides exposure, sulfur dioxide exposure, carbon monoxide exposure, and volatile organic compound exposure."
   ]
  },
  {
   "cell_type": "code",
   "execution_count": 71,
   "metadata": {},
   "outputs": [],
   "source": [
    "url4 = 'https://epi.yale.edu/epi-results/2022/component/air'"
   ]
  },
  {
   "cell_type": "markdown",
   "metadata": {},
   "source": [
    "#### Unsafe Sanitation\n",
    "We measure recycling rates as the proportion of recyclable materials (metal, plastic, paper, and glass) recycled in each country. A score of 100 indicates a country recycles all recyclable post-consumer material, while a score of 0 indicates a country recycles no recyclable post-consumer material."
   ]
  },
  {
   "cell_type": "code",
   "execution_count": 73,
   "metadata": {},
   "outputs": [],
   "source": [
    "url5 = 'https://epi.yale.edu/epi-results/2022/component/usd'"
   ]
  },
  {
   "cell_type": "markdown",
   "metadata": {},
   "source": [
    "#### Recycling\n",
    "We measure recycling rates as the proportion of recyclable materials (metal, plastic, paper, and glass) recycled in each country. A score of 100 indicates a country recycles all recyclable post-consumer material, while a score of 0 indicates a country recycles no recyclable post-consumer material."
   ]
  },
  {
   "cell_type": "code",
   "execution_count": 74,
   "metadata": {},
   "outputs": [],
   "source": [
    "url6 = 'https://epi.yale.edu/epi-results/2022/component/rec'"
   ]
  },
  {
   "cell_type": "markdown",
   "metadata": {},
   "source": [
    "#### Ocean Plastics\n",
    "We measure ocean plastic pollution as the absolute quantity, in millions of metric tons, of plastics a country releases into the oceans in a given year. A score of 100 indicates a country emits zero tons of plastic each year, while a score of 0 indicates a country is among the highest (≥99th-percentile) ocean plastic polluters."
   ]
  },
  {
   "cell_type": "code",
   "execution_count": 75,
   "metadata": {},
   "outputs": [],
   "source": [
    "url7 = 'https://epi.yale.edu/epi-results/2022/component/ocp'"
   ]
  },
  {
   "cell_type": "markdown",
   "metadata": {},
   "source": [
    "#### Climate Change Policy Objective\n",
    "The 2022 EPI introduces Climate Change as a new policy objective. It comprises 38% of the total EPI score and is made up of a single issue category: Climate Change Mitigation.\n",
    "\n",
    "The Climate Change Mitigation issue category measures progress to combat global climate change, which exacerbates other environmental threats and imperils human health and safety. It is composed of nine indicators: adjusted emission growth rates for four greenhouse gases (CO2, CH4, F-gases, and N2O) and one climate pollutant (black carbon); projected greenhouse gas emissions in 2050; growth rate in CO2 emissions from land cover; greenhouse gas intensity growth rate; and greenhouse gas emissions per capita.\n",
    "\n",
    " "
   ]
  },
  {
   "cell_type": "code",
   "execution_count": 76,
   "metadata": {},
   "outputs": [],
   "source": [
    "url8 = 'https://epi.yale.edu/epi-results/2022/component/cch'"
   ]
  },
  {
   "cell_type": "markdown",
   "metadata": {},
   "source": [
    "### Sacamos todo junto"
   ]
  },
  {
   "cell_type": "code",
   "execution_count": 81,
   "metadata": {},
   "outputs": [
    {
     "data": {
      "text/plain": [
       "['https://epi.yale.edu/epi-results/2022/component/eco',\n",
       " 'https://epi.yale.edu/epi-results/2022/component/bdh',\n",
       " 'https://epi.yale.edu/epi-results/2022/component/hlt',\n",
       " 'https://epi.yale.edu/epi-results/2022/component/air',\n",
       " 'https://epi.yale.edu/epi-results/2022/component/usd',\n",
       " 'https://epi.yale.edu/epi-results/2022/component/rec',\n",
       " 'https://epi.yale.edu/epi-results/2022/component/ocp',\n",
       " 'https://epi.yale.edu/epi-results/2022/component/cch']"
      ]
     },
     "execution_count": 81,
     "metadata": {},
     "output_type": "execute_result"
    }
   ],
   "source": [
    "list_urls = [url1, url2, url3, url4, url5, url6, url7, url8]\n",
    "col_names = ['eco', 'bdh']\n",
    "list_urls"
   ]
  },
  {
   "cell_type": "code",
   "execution_count": 89,
   "metadata": {},
   "outputs": [],
   "source": [
    "df_final = pd.DataFrame()\n",
    "\n",
    "for url in list_urls:\n",
    "\n",
    "    driver = webdriver.Firefox()\n",
    "    driver.get(url)\n",
    "    time.sleep(5)\n",
    "    html = lxml.html.document_fromstring(driver.page_source)\n",
    "    driver.close()\n",
    "\n",
    "    col_name = url.split(sep='/')[-1] + '_score'\n",
    "\n",
    "    tabla = html.xpath('//*[@id=\"DataTables_Table_0\"]')\n",
    "    rows = tabla[0].xpath('./tbody//tr')\n",
    "\n",
    "    for row in rows:\n",
    "        aux = pd.DataFrame()\n",
    "        aux['country'] = row.xpath('.//td/a/text()')\n",
    "        aux['rank'] = row.xpath('./td[2]/text()')[-1].split()\n",
    "        aux[col_name] = row.xpath('./td[3]/text()')[-1].split()\n",
    "\n",
    "        df_final = pd.concat([df_final, aux])\n",
    "    \n",
    "    "
   ]
  },
  {
   "cell_type": "markdown",
   "metadata": {},
   "source": [
    "se ha sacado regular por culpa del rango (habría que quitarlo o meter un merge por country en vez de un concat) pero da igual, lo arreglamos aquí en vez de volver a scrapear todo, es más rápido"
   ]
  },
  {
   "cell_type": "code",
   "execution_count": 113,
   "metadata": {},
   "outputs": [],
   "source": [
    "# arreglamos el dataframe y juntamos con el que sacamos original\n",
    "environment = df_final.drop('rank', axis = 1).groupby('country').first().reset_index()\n",
    "environment = pd.merge(df, environment, on = 'country')"
   ]
  },
  {
   "cell_type": "code",
   "execution_count": 118,
   "metadata": {},
   "outputs": [
    {
     "data": {
      "text/html": [
       "<div>\n",
       "<style scoped>\n",
       "    .dataframe tbody tr th:only-of-type {\n",
       "        vertical-align: middle;\n",
       "    }\n",
       "\n",
       "    .dataframe tbody tr th {\n",
       "        vertical-align: top;\n",
       "    }\n",
       "\n",
       "    .dataframe thead th {\n",
       "        text-align: right;\n",
       "    }\n",
       "</style>\n",
       "<table border=\"1\" class=\"dataframe\">\n",
       "  <thead>\n",
       "    <tr style=\"text-align: right;\">\n",
       "      <th></th>\n",
       "      <th>country</th>\n",
       "      <th>rank</th>\n",
       "      <th>epi_score</th>\n",
       "      <th>eco_score</th>\n",
       "      <th>bdh_score</th>\n",
       "      <th>hlt_score</th>\n",
       "      <th>air_score</th>\n",
       "      <th>usd_score</th>\n",
       "      <th>rec_score</th>\n",
       "      <th>ocp_score</th>\n",
       "      <th>cch_score</th>\n",
       "    </tr>\n",
       "  </thead>\n",
       "  <tbody>\n",
       "    <tr>\n",
       "      <th>0</th>\n",
       "      <td>Denmark</td>\n",
       "      <td>1</td>\n",
       "      <td>77.90</td>\n",
       "      <td>61.30</td>\n",
       "      <td>76.90</td>\n",
       "      <td>85.50</td>\n",
       "      <td>80.50</td>\n",
       "      <td>99.90</td>\n",
       "      <td>35.40</td>\n",
       "      <td>39.10</td>\n",
       "      <td>92.40</td>\n",
       "    </tr>\n",
       "    <tr>\n",
       "      <th>1</th>\n",
       "      <td>United Kingdom</td>\n",
       "      <td>2</td>\n",
       "      <td>77.70</td>\n",
       "      <td>62.30</td>\n",
       "      <td>81.50</td>\n",
       "      <td>83.90</td>\n",
       "      <td>78.60</td>\n",
       "      <td>100.00</td>\n",
       "      <td>34.20</td>\n",
       "      <td>24.40</td>\n",
       "      <td>91.50</td>\n",
       "    </tr>\n",
       "    <tr>\n",
       "      <th>2</th>\n",
       "      <td>Finland</td>\n",
       "      <td>3</td>\n",
       "      <td>76.50</td>\n",
       "      <td>62.00</td>\n",
       "      <td>71.10</td>\n",
       "      <td>93.40</td>\n",
       "      <td>93.50</td>\n",
       "      <td>100.00</td>\n",
       "      <td>35.40</td>\n",
       "      <td>46.50</td>\n",
       "      <td>83.60</td>\n",
       "    </tr>\n",
       "    <tr>\n",
       "      <th>3</th>\n",
       "      <td>Malta</td>\n",
       "      <td>4</td>\n",
       "      <td>75.20</td>\n",
       "      <td>68.20</td>\n",
       "      <td>72.90</td>\n",
       "      <td>76.50</td>\n",
       "      <td>73.20</td>\n",
       "      <td>99.50</td>\n",
       "      <td>10.50</td>\n",
       "      <td>59.70</td>\n",
       "      <td>82.30</td>\n",
       "    </tr>\n",
       "    <tr>\n",
       "      <th>4</th>\n",
       "      <td>Sweden</td>\n",
       "      <td>5</td>\n",
       "      <td>72.70</td>\n",
       "      <td>60.60</td>\n",
       "      <td>68.80</td>\n",
       "      <td>93.10</td>\n",
       "      <td>94.00</td>\n",
       "      <td>99.60</td>\n",
       "      <td>39.70</td>\n",
       "      <td>44.80</td>\n",
       "      <td>75.40</td>\n",
       "    </tr>\n",
       "    <tr>\n",
       "      <th>...</th>\n",
       "      <td>...</td>\n",
       "      <td>...</td>\n",
       "      <td>...</td>\n",
       "      <td>...</td>\n",
       "      <td>...</td>\n",
       "      <td>...</td>\n",
       "      <td>...</td>\n",
       "      <td>...</td>\n",
       "      <td>...</td>\n",
       "      <td>...</td>\n",
       "      <td>...</td>\n",
       "    </tr>\n",
       "    <tr>\n",
       "      <th>175</th>\n",
       "      <td>Pakistan</td>\n",
       "      <td>176</td>\n",
       "      <td>24.60</td>\n",
       "      <td>37.80</td>\n",
       "      <td>37.40</td>\n",
       "      <td>11.40</td>\n",
       "      <td>5.70</td>\n",
       "      <td>20.90</td>\n",
       "      <td>13.80</td>\n",
       "      <td>10.20</td>\n",
       "      <td>16.90</td>\n",
       "    </tr>\n",
       "    <tr>\n",
       "      <th>176</th>\n",
       "      <td>Bangladesh</td>\n",
       "      <td>177</td>\n",
       "      <td>23.10</td>\n",
       "      <td>29.40</td>\n",
       "      <td>37.40</td>\n",
       "      <td>18.10</td>\n",
       "      <td>14.40</td>\n",
       "      <td>28.00</td>\n",
       "      <td>15.70</td>\n",
       "      <td>14.60</td>\n",
       "      <td>18.80</td>\n",
       "    </tr>\n",
       "    <tr>\n",
       "      <th>177</th>\n",
       "      <td>Viet Nam</td>\n",
       "      <td>178</td>\n",
       "      <td>20.10</td>\n",
       "      <td>22.10</td>\n",
       "      <td>27.90</td>\n",
       "      <td>35.10</td>\n",
       "      <td>26.50</td>\n",
       "      <td>55.70</td>\n",
       "      <td>46.00</td>\n",
       "      <td>12.30</td>\n",
       "      <td>10.10</td>\n",
       "    </tr>\n",
       "    <tr>\n",
       "      <th>178</th>\n",
       "      <td>Myanmar</td>\n",
       "      <td>179</td>\n",
       "      <td>19.40</td>\n",
       "      <td>20.20</td>\n",
       "      <td>21.80</td>\n",
       "      <td>21.60</td>\n",
       "      <td>16.90</td>\n",
       "      <td>32.30</td>\n",
       "      <td>12.30</td>\n",
       "      <td>12.50</td>\n",
       "      <td>17.30</td>\n",
       "    </tr>\n",
       "    <tr>\n",
       "      <th>179</th>\n",
       "      <td>India</td>\n",
       "      <td>180</td>\n",
       "      <td>18.90</td>\n",
       "      <td>19.30</td>\n",
       "      <td>5.80</td>\n",
       "      <td>12.50</td>\n",
       "      <td>7.80</td>\n",
       "      <td>21.40</td>\n",
       "      <td>17.80</td>\n",
       "      <td>NA</td>\n",
       "      <td>21.70</td>\n",
       "    </tr>\n",
       "  </tbody>\n",
       "</table>\n",
       "<p>180 rows × 11 columns</p>\n",
       "</div>"
      ],
      "text/plain": [
       "            country rank epi_score eco_score bdh_score hlt_score air_score  \\\n",
       "0           Denmark    1     77.90     61.30     76.90     85.50     80.50   \n",
       "1    United Kingdom    2     77.70     62.30     81.50     83.90     78.60   \n",
       "2           Finland    3     76.50     62.00     71.10     93.40     93.50   \n",
       "3             Malta    4     75.20     68.20     72.90     76.50     73.20   \n",
       "4            Sweden    5     72.70     60.60     68.80     93.10     94.00   \n",
       "..              ...  ...       ...       ...       ...       ...       ...   \n",
       "175        Pakistan  176     24.60     37.80     37.40     11.40      5.70   \n",
       "176      Bangladesh  177     23.10     29.40     37.40     18.10     14.40   \n",
       "177        Viet Nam  178     20.10     22.10     27.90     35.10     26.50   \n",
       "178         Myanmar  179     19.40     20.20     21.80     21.60     16.90   \n",
       "179           India  180     18.90     19.30      5.80     12.50      7.80   \n",
       "\n",
       "    usd_score rec_score ocp_score cch_score  \n",
       "0       99.90     35.40     39.10     92.40  \n",
       "1      100.00     34.20     24.40     91.50  \n",
       "2      100.00     35.40     46.50     83.60  \n",
       "3       99.50     10.50     59.70     82.30  \n",
       "4       99.60     39.70     44.80     75.40  \n",
       "..        ...       ...       ...       ...  \n",
       "175     20.90     13.80     10.20     16.90  \n",
       "176     28.00     15.70     14.60     18.80  \n",
       "177     55.70     46.00     12.30     10.10  \n",
       "178     32.30     12.30     12.50     17.30  \n",
       "179     21.40     17.80        NA     21.70  \n",
       "\n",
       "[180 rows x 11 columns]"
      ]
     },
     "execution_count": 118,
     "metadata": {},
     "output_type": "execute_result"
    }
   ],
   "source": [
    "environment"
   ]
  },
  {
   "cell_type": "code",
   "execution_count": 117,
   "metadata": {},
   "outputs": [],
   "source": [
    "environment.to_excel('data/processed/environmental_variables.xlsx')"
   ]
  },
  {
   "cell_type": "code",
   "execution_count": null,
   "metadata": {},
   "outputs": [],
   "source": []
  },
  {
   "cell_type": "markdown",
   "metadata": {},
   "source": [
    "# Restaurants"
   ]
  },
  {
   "cell_type": "code",
   "execution_count": 141,
   "metadata": {},
   "outputs": [],
   "source": [
    "url = 'https://www.tasteatlas.com/best/cuisines'"
   ]
  },
  {
   "cell_type": "code",
   "execution_count": 146,
   "metadata": {},
   "outputs": [
    {
     "name": "stdout",
     "output_type": "stream",
     "text": [
      "Error: Button not found (Option 2).\n"
     ]
    }
   ],
   "source": [
    "driver = webdriver.Firefox()\n",
    "driver.get(url)\n",
    "time.sleep(5)\n",
    "\n",
    "# we find the button to see the complete list and click on it\n",
    "try:\n",
    "    button = WebDriverWait(driver, 10).until(\n",
    "        EC.element_to_be_clickable((By.CLASS_NAME, \"section-button.with-border\"))\n",
    "    )\n",
    "    button.click()\n",
    "except:\n",
    "    print(\"Error: Button not found (Option 1).\")\n",
    "\n",
    "\n",
    "html = lxml.html.document_fromstring(driver.page_source)\n",
    "driver.close()"
   ]
  },
  {
   "cell_type": "code",
   "execution_count": 147,
   "metadata": {},
   "outputs": [
    {
     "data": {
      "text/plain": [
       "100"
      ]
     },
     "execution_count": 147,
     "metadata": {},
     "output_type": "execute_result"
    }
   ],
   "source": [
    "rows = html.xpath('//*[@id=\"BestCuisines\"]//a[@class=\"content-holder content\"]')\n",
    "len(rows)"
   ]
  },
  {
   "cell_type": "code",
   "execution_count": 149,
   "metadata": {},
   "outputs": [
    {
     "data": {
      "text/plain": [
       "['italy']"
      ]
     },
     "execution_count": 149,
     "metadata": {},
     "output_type": "execute_result"
    }
   ],
   "source": [
    "rows[0].xpath('.//@href')"
   ]
  },
  {
   "cell_type": "code",
   "execution_count": 160,
   "metadata": {},
   "outputs": [
    {
     "data": {
      "text/html": [
       "<div>\n",
       "<style scoped>\n",
       "    .dataframe tbody tr th:only-of-type {\n",
       "        vertical-align: middle;\n",
       "    }\n",
       "\n",
       "    .dataframe tbody tr th {\n",
       "        vertical-align: top;\n",
       "    }\n",
       "\n",
       "    .dataframe thead th {\n",
       "        text-align: right;\n",
       "    }\n",
       "</style>\n",
       "<table border=\"1\" class=\"dataframe\">\n",
       "  <thead>\n",
       "    <tr style=\"text-align: right;\">\n",
       "      <th></th>\n",
       "      <th>Country</th>\n",
       "      <th>Ranking</th>\n",
       "    </tr>\n",
       "  </thead>\n",
       "  <tbody>\n",
       "    <tr>\n",
       "      <th>0</th>\n",
       "      <td>italy</td>\n",
       "      <td>1</td>\n",
       "    </tr>\n",
       "    <tr>\n",
       "      <th>1</th>\n",
       "      <td>japan</td>\n",
       "      <td>2</td>\n",
       "    </tr>\n",
       "    <tr>\n",
       "      <th>2</th>\n",
       "      <td>greece</td>\n",
       "      <td>3</td>\n",
       "    </tr>\n",
       "    <tr>\n",
       "      <th>3</th>\n",
       "      <td>portugal</td>\n",
       "      <td>4</td>\n",
       "    </tr>\n",
       "    <tr>\n",
       "      <th>4</th>\n",
       "      <td>china</td>\n",
       "      <td>5</td>\n",
       "    </tr>\n",
       "    <tr>\n",
       "      <th>...</th>\n",
       "      <td>...</td>\n",
       "      <td>...</td>\n",
       "    </tr>\n",
       "    <tr>\n",
       "      <th>95</th>\n",
       "      <td>northern-ireland</td>\n",
       "      <td>96</td>\n",
       "    </tr>\n",
       "    <tr>\n",
       "      <th>96</th>\n",
       "      <td>the-bahamas</td>\n",
       "      <td>97</td>\n",
       "    </tr>\n",
       "    <tr>\n",
       "      <th>97</th>\n",
       "      <td>dominican-republic</td>\n",
       "      <td>98</td>\n",
       "    </tr>\n",
       "    <tr>\n",
       "      <th>98</th>\n",
       "      <td>wales</td>\n",
       "      <td>99</td>\n",
       "    </tr>\n",
       "    <tr>\n",
       "      <th>99</th>\n",
       "      <td>ghana</td>\n",
       "      <td>100</td>\n",
       "    </tr>\n",
       "  </tbody>\n",
       "</table>\n",
       "<p>100 rows × 2 columns</p>\n",
       "</div>"
      ],
      "text/plain": [
       "               Country  Ranking\n",
       "0                italy        1\n",
       "1                japan        2\n",
       "2               greece        3\n",
       "3             portugal        4\n",
       "4                china        5\n",
       "..                 ...      ...\n",
       "95    northern-ireland       96\n",
       "96         the-bahamas       97\n",
       "97  dominican-republic       98\n",
       "98               wales       99\n",
       "99               ghana      100\n",
       "\n",
       "[100 rows x 2 columns]"
      ]
     },
     "execution_count": 160,
     "metadata": {},
     "output_type": "execute_result"
    }
   ],
   "source": [
    "countries = []\n",
    "rankings = []\n",
    "\n",
    "ranking = 1\n",
    "for row in rows:\n",
    "    country = row.xpath('.//@href')\n",
    "    countries.extend(country)\n",
    "    rankings.append(ranking)\n",
    "    ranking += 1\n",
    "\n",
    "cuisine = pd.DataFrame({'Country': countries, 'Ranking': rankings})\n",
    "cuisine"
   ]
  },
  {
   "cell_type": "code",
   "execution_count": 161,
   "metadata": {},
   "outputs": [],
   "source": [
    "cuisine.to_excel('data/processed/cuisines_variable.xlsx')"
   ]
  },
  {
   "cell_type": "markdown",
   "metadata": {},
   "source": [
    "# Global Peace & Global Terrorism Index\n",
    "Produced by the Institute for Economics and Peace (IEP), the __Global Peace Index (GPI)__ is the world’s leading measure of global peacefulness. This report presents the most comprehensive data-driven analysis to-date on trends in peace, its economic value, and how to develop peaceful societies. The Global Peace Index covers 99.7% of the world’s population, and is calculated using 23 qualitative and quantitative indicators from highly respected sources, and measures the state of peace across three domains:\n",
    "\n",
    "- the level of Societal Safety and Security,\n",
    "- the extent of Ongoing Domestic and International Conflict,\n",
    "- and the degree of Militarisation.\n",
    "\n",
    "The __Global Terrorism Index (GTI)__ is a composite measure made up of four indicators: incidents, fatalities, injuries and hostages. To measure the impact of terrorism, a five-year weighted average is applied.\n",
    "\n"
   ]
  },
  {
   "cell_type": "code",
   "execution_count": null,
   "metadata": {},
   "outputs": [],
   "source": [
    "# fuente sacada de internet, no cuadra con el dato de la web\n",
    "gpi = pd.read_stata('./data/raw/data_peace.dta')"
   ]
  },
  {
   "cell_type": "code",
   "execution_count": null,
   "metadata": {},
   "outputs": [
    {
     "data": {
      "text/html": [
       "<div>\n",
       "<style scoped>\n",
       "    .dataframe tbody tr th:only-of-type {\n",
       "        vertical-align: middle;\n",
       "    }\n",
       "\n",
       "    .dataframe tbody tr th {\n",
       "        vertical-align: top;\n",
       "    }\n",
       "\n",
       "    .dataframe thead th {\n",
       "        text-align: right;\n",
       "    }\n",
       "</style>\n",
       "<table border=\"1\" class=\"dataframe\">\n",
       "  <thead>\n",
       "    <tr style=\"text-align: right;\">\n",
       "      <th></th>\n",
       "      <th>year</th>\n",
       "      <th>country</th>\n",
       "      <th>peace</th>\n",
       "      <th>id</th>\n",
       "    </tr>\n",
       "  </thead>\n",
       "  <tbody>\n",
       "    <tr>\n",
       "      <th>2507</th>\n",
       "      <td>2023</td>\n",
       "      <td>Iceland</td>\n",
       "      <td>1.000</td>\n",
       "      <td>63.0</td>\n",
       "    </tr>\n",
       "    <tr>\n",
       "      <th>2535</th>\n",
       "      <td>2023</td>\n",
       "      <td>Mauritius</td>\n",
       "      <td>1.000</td>\n",
       "      <td>91.0</td>\n",
       "    </tr>\n",
       "    <tr>\n",
       "      <th>2572</th>\n",
       "      <td>2023</td>\n",
       "      <td>Singapore</td>\n",
       "      <td>1.000</td>\n",
       "      <td>128.0</td>\n",
       "    </tr>\n",
       "    <tr>\n",
       "      <th>2601</th>\n",
       "      <td>2023</td>\n",
       "      <td>Uruguay</td>\n",
       "      <td>1.000</td>\n",
       "      <td>157.0</td>\n",
       "    </tr>\n",
       "    <tr>\n",
       "      <th>2532</th>\n",
       "      <td>2023</td>\n",
       "      <td>Malaysia</td>\n",
       "      <td>1.005</td>\n",
       "      <td>88.0</td>\n",
       "    </tr>\n",
       "    <tr>\n",
       "      <th>2546</th>\n",
       "      <td>2023</td>\n",
       "      <td>NewZealand</td>\n",
       "      <td>1.009</td>\n",
       "      <td>102.0</td>\n",
       "    </tr>\n",
       "    <tr>\n",
       "      <th>2462</th>\n",
       "      <td>2023</td>\n",
       "      <td>Botswana</td>\n",
       "      <td>1.018</td>\n",
       "      <td>18.0</td>\n",
       "    </tr>\n",
       "    <tr>\n",
       "      <th>2512</th>\n",
       "      <td>2023</td>\n",
       "      <td>Ireland</td>\n",
       "      <td>1.028</td>\n",
       "      <td>68.0</td>\n",
       "    </tr>\n",
       "    <tr>\n",
       "      <th>2469</th>\n",
       "      <td>2023</td>\n",
       "      <td>Canada</td>\n",
       "      <td>1.037</td>\n",
       "      <td>25.0</td>\n",
       "    </tr>\n",
       "    <tr>\n",
       "      <th>2583</th>\n",
       "      <td>2023</td>\n",
       "      <td>Switzerland</td>\n",
       "      <td>1.046</td>\n",
       "      <td>139.0</td>\n",
       "    </tr>\n",
       "    <tr>\n",
       "      <th>2514</th>\n",
       "      <td>2023</td>\n",
       "      <td>Italy</td>\n",
       "      <td>1.046</td>\n",
       "      <td>70.0</td>\n",
       "    </tr>\n",
       "    <tr>\n",
       "      <th>2497</th>\n",
       "      <td>2023</td>\n",
       "      <td>Germany</td>\n",
       "      <td>1.046</td>\n",
       "      <td>53.0</td>\n",
       "    </tr>\n",
       "    <tr>\n",
       "      <th>2545</th>\n",
       "      <td>2023</td>\n",
       "      <td>Netherlands</td>\n",
       "      <td>1.055</td>\n",
       "      <td>101.0</td>\n",
       "    </tr>\n",
       "    <tr>\n",
       "      <th>2452</th>\n",
       "      <td>2023</td>\n",
       "      <td>Austria</td>\n",
       "      <td>1.068</td>\n",
       "      <td>8.0</td>\n",
       "    </tr>\n",
       "    <tr>\n",
       "      <th>2457</th>\n",
       "      <td>2023</td>\n",
       "      <td>Belgium</td>\n",
       "      <td>1.084</td>\n",
       "      <td>13.0</td>\n",
       "    </tr>\n",
       "    <tr>\n",
       "      <th>2599</th>\n",
       "      <td>2023</td>\n",
       "      <td>UnitedKingdom</td>\n",
       "      <td>1.120</td>\n",
       "      <td>155.0</td>\n",
       "    </tr>\n",
       "    <tr>\n",
       "      <th>2562</th>\n",
       "      <td>2023</td>\n",
       "      <td>Portugal</td>\n",
       "      <td>1.138</td>\n",
       "      <td>118.0</td>\n",
       "    </tr>\n",
       "    <tr>\n",
       "      <th>2543</th>\n",
       "      <td>2023</td>\n",
       "      <td>Namibia</td>\n",
       "      <td>1.201</td>\n",
       "      <td>99.0</td>\n",
       "    </tr>\n",
       "    <tr>\n",
       "      <th>2475</th>\n",
       "      <td>2023</td>\n",
       "      <td>CostaRica</td>\n",
       "      <td>1.201</td>\n",
       "      <td>31.0</td>\n",
       "    </tr>\n",
       "    <tr>\n",
       "      <th>2592</th>\n",
       "      <td>2023</td>\n",
       "      <td>TrinidadandTobago</td>\n",
       "      <td>1.201</td>\n",
       "      <td>148.0</td>\n",
       "    </tr>\n",
       "  </tbody>\n",
       "</table>\n",
       "</div>"
      ],
      "text/plain": [
       "      year            country  peace     id\n",
       "2507  2023            Iceland  1.000   63.0\n",
       "2535  2023          Mauritius  1.000   91.0\n",
       "2572  2023          Singapore  1.000  128.0\n",
       "2601  2023            Uruguay  1.000  157.0\n",
       "2532  2023           Malaysia  1.005   88.0\n",
       "2546  2023         NewZealand  1.009  102.0\n",
       "2462  2023           Botswana  1.018   18.0\n",
       "2512  2023            Ireland  1.028   68.0\n",
       "2469  2023             Canada  1.037   25.0\n",
       "2583  2023        Switzerland  1.046  139.0\n",
       "2514  2023              Italy  1.046   70.0\n",
       "2497  2023            Germany  1.046   53.0\n",
       "2545  2023        Netherlands  1.055  101.0\n",
       "2452  2023            Austria  1.068    8.0\n",
       "2457  2023            Belgium  1.084   13.0\n",
       "2599  2023      UnitedKingdom  1.120  155.0\n",
       "2562  2023           Portugal  1.138  118.0\n",
       "2543  2023            Namibia  1.201   99.0\n",
       "2475  2023          CostaRica  1.201   31.0\n",
       "2592  2023  TrinidadandTobago  1.201  148.0"
      ]
     },
     "metadata": {},
     "output_type": "display_data"
    }
   ],
   "source": [
    "gpi.query('year == 2023').sort_values(by = 'peace').head(20)"
   ]
  },
  {
   "cell_type": "code",
   "execution_count": null,
   "metadata": {},
   "outputs": [],
   "source": [
    "url_peace = 'https://www.visionofhumanity.org/maps/#/'\n",
    "url_terr = 'https://www.visionofhumanity.org/maps/global-terrorism-index/#/'"
   ]
  },
  {
   "cell_type": "code",
   "execution_count": null,
   "metadata": {},
   "outputs": [
    {
     "ename": "NameError",
     "evalue": "name 'year_option' is not defined",
     "output_type": "error",
     "traceback": [
      "\u001b[1;31m---------------------------------------------------------------------------\u001b[0m\n",
      "\u001b[1;31mNameError\u001b[0m                                 Traceback (most recent call last)\n",
      "Cell \u001b[1;32mIn[140], line 1\u001b[0m\n",
      "\u001b[1;32m----> 1\u001b[0m \u001b[43myear_option\u001b[49m\n",
      "\n",
      "\u001b[1;31mNameError\u001b[0m: name 'year_option' is not defined"
     ]
    }
   ],
   "source": [
    "year_option"
   ]
  },
  {
   "cell_type": "code",
   "execution_count": null,
   "metadata": {},
   "outputs": [
    {
     "ename": "TimeoutException",
     "evalue": "Message: \nStacktrace:\n\tGetHandleVerifier [0x00007FF6063AAD02+56930]\n\t(No symbol) [0x00007FF60631F602]\n\t(No symbol) [0x00007FF6061D42E5]\n\t(No symbol) [0x00007FF6062198ED]\n\t(No symbol) [0x00007FF606219A2C]\n\t(No symbol) [0x00007FF60625A967]\n\t(No symbol) [0x00007FF60623BCDF]\n\t(No symbol) [0x00007FF6062581E2]\n\t(No symbol) [0x00007FF60623BA43]\n\t(No symbol) [0x00007FF60620D438]\n\t(No symbol) [0x00007FF60620E4D1]\n\tGetHandleVerifier [0x00007FF606726F8D+3711213]\n\tGetHandleVerifier [0x00007FF6067804CD+4077101]\n\tGetHandleVerifier [0x00007FF60677865F+4044735]\n\tGetHandleVerifier [0x00007FF606449736+706710]\n\t(No symbol) [0x00007FF60632B8DF]\n\t(No symbol) [0x00007FF606326AC4]\n\t(No symbol) [0x00007FF606326C1C]\n\t(No symbol) [0x00007FF6063168D4]\n\tBaseThreadInitThunk [0x00007FFC206B53E0+16]\n\tRtlUserThreadStart [0x00007FFC21AE485B+43]\n",
     "output_type": "error",
     "traceback": [
      "\u001b[1;31m---------------------------------------------------------------------------\u001b[0m\n",
      "\u001b[1;31mTimeoutException\u001b[0m                          Traceback (most recent call last)\n",
      "Cell \u001b[1;32mIn[139], line 38\u001b[0m\n",
      "\u001b[0;32m     35\u001b[0m \u001b[38;5;66;03m# Click on the desired year (how to do this depends on the element type)\u001b[39;00m\n",
      "\u001b[0;32m     36\u001b[0m \u001b[38;5;66;03m# Example 1: If it's a dropdown\u001b[39;00m\n",
      "\u001b[0;32m     37\u001b[0m year_filter\u001b[38;5;241m.\u001b[39mclick()\n",
      "\u001b[1;32m---> 38\u001b[0m year_option \u001b[38;5;241m=\u001b[39m \u001b[43mWebDriverWait\u001b[49m\u001b[43m(\u001b[49m\u001b[43mdriver\u001b[49m\u001b[43m,\u001b[49m\u001b[43m \u001b[49m\u001b[38;5;241;43m10\u001b[39;49m\u001b[43m)\u001b[49m\u001b[38;5;241;43m.\u001b[39;49m\u001b[43muntil\u001b[49m\u001b[43m(\u001b[49m\n",
      "\u001b[0;32m     39\u001b[0m \u001b[43m    \u001b[49m\u001b[43mEC\u001b[49m\u001b[38;5;241;43m.\u001b[39;49m\u001b[43mpresence_of_element_located\u001b[49m\u001b[43m(\u001b[49m\u001b[43m(\u001b[49m\u001b[43mBy\u001b[49m\u001b[38;5;241;43m.\u001b[39;49m\u001b[43mXPATH\u001b[49m\u001b[43m,\u001b[49m\u001b[43m \u001b[49m\u001b[38;5;124;43mf\u001b[39;49m\u001b[38;5;124;43m\"\u001b[39;49m\u001b[38;5;124;43m//div[contains(@class,\u001b[39;49m\u001b[38;5;124;43m'\u001b[39;49m\u001b[38;5;124;43mfzsyuK\u001b[39;49m\u001b[38;5;124;43m'\u001b[39;49m\u001b[38;5;124;43m) and text()=\u001b[39;49m\u001b[38;5;124;43m'\u001b[39;49m\u001b[38;5;132;43;01m{\u001b[39;49;00m\u001b[43myear\u001b[49m\u001b[38;5;132;43;01m}\u001b[39;49;00m\u001b[38;5;124;43m'\u001b[39;49m\u001b[38;5;124;43m]\u001b[39;49m\u001b[38;5;124;43m\"\u001b[39;49m\u001b[43m)\u001b[49m\u001b[43m)\u001b[49m\n",
      "\u001b[0;32m     40\u001b[0m \u001b[43m)\u001b[49m\n",
      "\u001b[0;32m     41\u001b[0m year_option\u001b[38;5;241m.\u001b[39mclick()\n",
      "\u001b[0;32m     43\u001b[0m \u001b[38;5;66;03m# Wait for the data table to update (several strategies can be used)\u001b[39;00m\n",
      "\n",
      "File \u001b[1;32m~\\AppData\\Local\\Packages\\PythonSoftwareFoundation.Python.3.9_qbz5n2kfra8p0\\LocalCache\\local-packages\\Python39\\site-packages\\selenium\\webdriver\\support\\wait.py:105\u001b[0m, in \u001b[0;36mWebDriverWait.until\u001b[1;34m(self, method, message)\u001b[0m\n",
      "\u001b[0;32m    103\u001b[0m     \u001b[38;5;28;01mif\u001b[39;00m time\u001b[38;5;241m.\u001b[39mmonotonic() \u001b[38;5;241m>\u001b[39m end_time:\n",
      "\u001b[0;32m    104\u001b[0m         \u001b[38;5;28;01mbreak\u001b[39;00m\n",
      "\u001b[1;32m--> 105\u001b[0m \u001b[38;5;28;01mraise\u001b[39;00m TimeoutException(message, screen, stacktrace)\n",
      "\n",
      "\u001b[1;31mTimeoutException\u001b[0m: Message: \n",
      "Stacktrace:\n",
      "\tGetHandleVerifier [0x00007FF6063AAD02+56930]\n",
      "\t(No symbol) [0x00007FF60631F602]\n",
      "\t(No symbol) [0x00007FF6061D42E5]\n",
      "\t(No symbol) [0x00007FF6062198ED]\n",
      "\t(No symbol) [0x00007FF606219A2C]\n",
      "\t(No symbol) [0x00007FF60625A967]\n",
      "\t(No symbol) [0x00007FF60623BCDF]\n",
      "\t(No symbol) [0x00007FF6062581E2]\n",
      "\t(No symbol) [0x00007FF60623BA43]\n",
      "\t(No symbol) [0x00007FF60620D438]\n",
      "\t(No symbol) [0x00007FF60620E4D1]\n",
      "\tGetHandleVerifier [0x00007FF606726F8D+3711213]\n",
      "\tGetHandleVerifier [0x00007FF6067804CD+4077101]\n",
      "\tGetHandleVerifier [0x00007FF60677865F+4044735]\n",
      "\tGetHandleVerifier [0x00007FF606449736+706710]\n",
      "\t(No symbol) [0x00007FF60632B8DF]\n",
      "\t(No symbol) [0x00007FF606326AC4]\n",
      "\t(No symbol) [0x00007FF606326C1C]\n",
      "\t(No symbol) [0x00007FF6063168D4]\n",
      "\tBaseThreadInitThunk [0x00007FFC206B53E0+16]\n",
      "\tRtlUserThreadStart [0x00007FFC21AE485B+43]\n"
     ]
    }
   ],
   "source": [
    "from selenium import webdriver\n",
    "from selenium.webdriver.common.by import By\n",
    "from selenium.webdriver.support.ui import WebDriverWait\n",
    "from selenium.webdriver.support import expected_conditions as EC\n",
    "\n",
    "# Replace with the actual website URL \n",
    "url = \"https://www.visionofhumanity.org/maps/#/\"\n",
    "\n",
    "# Specify your desired year\n",
    "year = \"2021\" \n",
    "\n",
    "# Set up Selenium WebDriver (replace with your preferred browser)\n",
    "driver = webdriver.Chrome()\n",
    "driver.get(url)\n",
    "\n",
    "# Option 1: Targeting by multiple classes\n",
    "try:\n",
    "    year_filter = WebDriverWait(driver, 10).until(\n",
    "        EC.presence_of_element_located((By.CSS_SELECTOR, \"div.voh-selector.voh-selector__three.FJdvw > div.a > div.kpJrqq\"))\n",
    "    )\n",
    "except:\n",
    "    print(\"Error: Could not locate year filter (Option 1).\")\n",
    "\n",
    "# Option 2: Targeting by text \"Year\" (try this if Option 1 fails)\n",
    "try:\n",
    "    year_filter = WebDriverWait(driver, 10).until(\n",
    "        EC.presence_of_element_located((By.XPATH, \"//div[normalize-space()='Year']/ancestor::div[contains(@class, 'voh-selector')]\"))\n",
    "    )\n",
    "except:\n",
    "    print(\"Error: Could not locate year filter (Option 2).\")\n",
    "\n",
    "# Click the year filter (assuming it's a clickable element)\n",
    "year_filter.click()\n",
    "\n",
    "# Click on the desired year (how to do this depends on the element type)\n",
    "# Example 1: If it's a dropdown\n",
    "year_filter.click()\n",
    "year_option = WebDriverWait(driver, 10).until(\n",
    "    EC.presence_of_element_located((By.XPATH, f\"//div[contains(@class,'fzsyuK') and text()='{year}']\"))\n",
    ")\n",
    "year_option.click()\n",
    "\n",
    "# Wait for the data table to update (several strategies can be used)\n",
    "try:\n",
    "    data_table = WebDriverWait(driver, 10).until(\n",
    "        EC.presence_of_element_located((By.ID, \"dataTable\"))  # Assuming the table has an ID\n",
    "    )\n",
    "    print(\"Data table updated!\")\n",
    "except:\n",
    "    print(\"Error: Data table might not have updated.\") \n",
    "\n",
    "# ... (You can add more sophisticated wait logic if needed)\n"
   ]
  },
  {
   "cell_type": "markdown",
   "metadata": {},
   "source": [
    "# Seasonality\n",
    "The best time of the year to visit every country in the world by Frequent Miler.\n",
    "The goal was to find months of overlapping agreement between all of these “authorities,” prioritizing optimal weather and moderate crowds.\n",
    "- Lonely Planet, Rough Guides, Bradt, Fodor's, Travel + Leisure"
   ]
  }
 ],
 "metadata": {
  "kernelspec": {
   "display_name": "Python 3",
   "language": "python",
   "name": "python3"
  },
  "language_info": {
   "codemirror_mode": {
    "name": "ipython",
    "version": 3
   },
   "file_extension": ".py",
   "mimetype": "text/x-python",
   "name": "python",
   "nbconvert_exporter": "python",
   "pygments_lexer": "ipython3",
   "version": "3.9.13"
  }
 },
 "nbformat": 4,
 "nbformat_minor": 2
}
